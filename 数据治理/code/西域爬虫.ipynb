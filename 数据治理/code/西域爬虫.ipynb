{
 "cells": [
  {
   "cell_type": "code",
   "execution_count": 4,
   "id": "e6e20b40",
   "metadata": {
    "ExecuteTime": {
     "end_time": "2025-05-10T09:41:09.957355Z",
     "start_time": "2025-05-10T09:41:09.951440Z"
    }
   },
   "outputs": [],
   "source": [
    "import requests\n",
    "import pandas as pd\n",
    "from parsel import Selector\n",
    "import re\n",
    "import time"
   ]
  },
  {
   "cell_type": "markdown",
   "id": "74cc16bb",
   "metadata": {},
   "source": [
    "# 抓取商品链接"
   ]
  },
  {
   "cell_type": "code",
   "execution_count": 5,
   "id": "dfecea61",
   "metadata": {
    "ExecuteTime": {
     "end_time": "2025-05-10T09:41:18.893519Z",
     "start_time": "2025-05-10T09:41:12.821573Z"
    }
   },
   "outputs": [],
   "source": [
    "# 数据存储字典\n",
    "d = {\"商品信息\": [],\n",
    "     \"西域订货号\": [],\n",
    "     \"链接\": []\n",
    "    }\n",
    "\n",
    "# 设置请求头模拟浏览器访问\n",
    "headers = {\n",
    "    'User-Agent': 'Mozilla/5.0 (Windows NT 10.0; Win64; x64) AppleWebKit/537.36 (KHTML, like Gecko) Chrome/119.0.0.0 Safari/537.36',\n",
    "    'Referer': 'https://www.ehsy.com/',\n",
    "    'Accept-Language': 'zh-CN,zh;q=0.9'\n",
    "}\n",
    "\n",
    "for p in range(1, 9):\n",
    "    url = f\"https://www.ehsy.com/search?k=%E8%9E%BA%E4%B8%9D%E9%92%89&p={str(p)}\" # 不同商品的k 不同\n",
    "    response = requests.get(url, headers=headers, timeout=10)\n",
    "    # 创建选择器\n",
    "    sel = Selector(response.text)\n",
    "    for div in sel.css(\"div.product\"):\n",
    "        d[\"商品信息\"].append(div.css(\"a::attr('title')\").get().strip())\n",
    "        d[\"西域订货号\"].append(div.css(\"::attr('data-text')\").get().strip())\n",
    "        d[\"链接\"].append(div.css(\"a::attr('href')\").get().strip())\n",
    "#         li_sel_list = div.css(\"ul.product-parameter>li\")\n",
    "#         for key, li_sel in zip(index, li_sel_list):\n",
    "#             if key == \"价格\":\n",
    "#                 key = \"西域价\"\n",
    "#             value_list = li_sel.css(\"::text\").getall()\n",
    "#             value = \" \".join([re.sub(r\"\\s+\", \"\", str(i)) for i in value_list])\n",
    "#             value = value.strip()\n",
    "#             if len(value) == 0:\n",
    "#                 value = None\n",
    "#             d[key].append(value)\n",
    "#             for other_key in list(d.keys())[3:]:\n",
    "#                 if (other_key not in index) & (other_key != \"西域价\"):\n",
    "#                     d[other_key].append(None)"
   ]
  },
  {
   "cell_type": "code",
   "execution_count": 7,
   "id": "339dee5f",
   "metadata": {
    "ExecuteTime": {
     "end_time": "2025-05-10T09:41:27.649649Z",
     "start_time": "2025-05-10T09:41:27.612301Z"
    }
   },
   "outputs": [],
   "source": [
    "# 存储链接数据\n",
    "df = pd.DataFrame(d)\n",
    "df.to_excel(r\"../data/西域商品螺丝钉链接数据.xlsx\")"
   ]
  },
  {
   "cell_type": "code",
   "execution_count": 2,
   "id": "aecc9a2f",
   "metadata": {
    "ExecuteTime": {
     "end_time": "2025-05-10T07:52:33.946277Z",
     "start_time": "2025-05-10T07:52:33.586409Z"
    }
   },
   "outputs": [
    {
     "data": {
      "text/html": [
       "<div>\n",
       "<style scoped>\n",
       "    .dataframe tbody tr th:only-of-type {\n",
       "        vertical-align: middle;\n",
       "    }\n",
       "\n",
       "    .dataframe tbody tr th {\n",
       "        vertical-align: top;\n",
       "    }\n",
       "\n",
       "    .dataframe thead th {\n",
       "        text-align: right;\n",
       "    }\n",
       "</style>\n",
       "<table border=\"1\" class=\"dataframe\">\n",
       "  <thead>\n",
       "    <tr style=\"text-align: right;\">\n",
       "      <th></th>\n",
       "      <th>商品信息</th>\n",
       "      <th>西域订货号</th>\n",
       "      <th>链接</th>\n",
       "    </tr>\n",
       "  </thead>\n",
       "  <tbody>\n",
       "    <tr>\n",
       "      <th>0</th>\n",
       "      <td>超霸 方形碳性电池，1604G 6F22 9V 售卖规格：1粒</td>\n",
       "      <td>JQH490</td>\n",
       "      <td>https://www.ehsy.com/product-JQH490</td>\n",
       "    </tr>\n",
       "    <tr>\n",
       "      <th>1</th>\n",
       "      <td>松下/Panasonic 大号（1号）碳性电池，R20NU/2S 售卖规格：2节/卡</td>\n",
       "      <td>EDG759</td>\n",
       "      <td>https://www.ehsy.com/product-EDG759</td>\n",
       "    </tr>\n",
       "    <tr>\n",
       "      <th>2</th>\n",
       "      <td>超霸 1号碳性电池，13G-BJ2 售卖规格：2节/卡</td>\n",
       "      <td>EDH182</td>\n",
       "      <td>https://www.ehsy.com/product-EDH182</td>\n",
       "    </tr>\n",
       "    <tr>\n",
       "      <th>3</th>\n",
       "      <td>超霸 2号碳性电池，R14P 2号 售卖规格：2粒/包</td>\n",
       "      <td>BEC883</td>\n",
       "      <td>https://www.ehsy.com/product-BEC883</td>\n",
       "    </tr>\n",
       "    <tr>\n",
       "      <th>4</th>\n",
       "      <td>南孚 镍氢充电电池，2050mAh 5# 5号充电电池KTV无线麦克风专用（20节/盒） 售...</td>\n",
       "      <td>HJP615</td>\n",
       "      <td>https://www.ehsy.com/product-HJP615</td>\n",
       "    </tr>\n",
       "    <tr>\n",
       "      <th>...</th>\n",
       "      <td>...</td>\n",
       "      <td>...</td>\n",
       "      <td>...</td>\n",
       "    </tr>\n",
       "    <tr>\n",
       "      <th>3595</th>\n",
       "      <td>明纬 开关电源，HDR-15-24 售卖规格：1个</td>\n",
       "      <td>ART872</td>\n",
       "      <td>https://www.ehsy.com/product-ART872</td>\n",
       "    </tr>\n",
       "    <tr>\n",
       "      <th>3596</th>\n",
       "      <td>明纬 开关电源，HDR-30-12 售卖规格：1个</td>\n",
       "      <td>ART875</td>\n",
       "      <td>https://www.ehsy.com/product-ART875</td>\n",
       "    </tr>\n",
       "    <tr>\n",
       "      <th>3597</th>\n",
       "      <td>明纬 开关电源，HDR-30-48 售卖规格：1个</td>\n",
       "      <td>ART878</td>\n",
       "      <td>https://www.ehsy.com/product-ART878</td>\n",
       "    </tr>\n",
       "    <tr>\n",
       "      <th>3598</th>\n",
       "      <td>明纬 开关电源，HDR-30-15 售卖规格：1个</td>\n",
       "      <td>ART876</td>\n",
       "      <td>https://www.ehsy.com/product-ART876</td>\n",
       "    </tr>\n",
       "    <tr>\n",
       "      <th>3599</th>\n",
       "      <td>明纬 开关电源，LRS-50-3.3 售卖规格：1个</td>\n",
       "      <td>ACD213</td>\n",
       "      <td>https://www.ehsy.com/product-ACD213</td>\n",
       "    </tr>\n",
       "  </tbody>\n",
       "</table>\n",
       "<p>3600 rows × 3 columns</p>\n",
       "</div>"
      ],
      "text/plain": [
       "                                                   商品信息   西域订货号  \\\n",
       "0                       超霸 方形碳性电池，1604G 6F22 9V 售卖规格：1粒  JQH490   \n",
       "1            松下/Panasonic 大号（1号）碳性电池，R20NU/2S 售卖规格：2节/卡  EDG759   \n",
       "2                           超霸 1号碳性电池，13G-BJ2 售卖规格：2节/卡  EDH182   \n",
       "3                           超霸 2号碳性电池，R14P 2号 售卖规格：2粒/包  BEC883   \n",
       "4     南孚 镍氢充电电池，2050mAh 5# 5号充电电池KTV无线麦克风专用（20节/盒） 售...  HJP615   \n",
       "...                                                 ...     ...   \n",
       "3595                          明纬 开关电源，HDR-15-24 售卖规格：1个  ART872   \n",
       "3596                          明纬 开关电源，HDR-30-12 售卖规格：1个  ART875   \n",
       "3597                          明纬 开关电源，HDR-30-48 售卖规格：1个  ART878   \n",
       "3598                          明纬 开关电源，HDR-30-15 售卖规格：1个  ART876   \n",
       "3599                         明纬 开关电源，LRS-50-3.3 售卖规格：1个  ACD213   \n",
       "\n",
       "                                       链接  \n",
       "0     https://www.ehsy.com/product-JQH490  \n",
       "1     https://www.ehsy.com/product-EDG759  \n",
       "2     https://www.ehsy.com/product-EDH182  \n",
       "3     https://www.ehsy.com/product-BEC883  \n",
       "4     https://www.ehsy.com/product-HJP615  \n",
       "...                                   ...  \n",
       "3595  https://www.ehsy.com/product-ART872  \n",
       "3596  https://www.ehsy.com/product-ART875  \n",
       "3597  https://www.ehsy.com/product-ART878  \n",
       "3598  https://www.ehsy.com/product-ART876  \n",
       "3599  https://www.ehsy.com/product-ACD213  \n",
       "\n",
       "[3600 rows x 3 columns]"
      ]
     },
     "execution_count": 2,
     "metadata": {},
     "output_type": "execute_result"
    }
   ],
   "source": [
    "df = pd.read_excel(r\"../data/西域商品电池链接数据.xlsx\", index_col=0)\n",
    "df"
   ]
  },
  {
   "cell_type": "markdown",
   "id": "696e5d67",
   "metadata": {},
   "source": [
    "# 根据链接数据抓取商品属性"
   ]
  },
  {
   "cell_type": "code",
   "execution_count": 9,
   "id": "6c9a9106",
   "metadata": {
    "ExecuteTime": {
     "end_time": "2025-05-10T09:46:34.802848Z",
     "start_time": "2025-05-10T09:41:56.014315Z"
    }
   },
   "outputs": [
    {
     "data": {
      "application/vnd.jupyter.widget-view+json": {
       "model_id": "a9f4144ec14b42c09676387fd2536c62",
       "version_major": 2,
       "version_minor": 0
      },
      "text/plain": [
       "抓取进度:   0%|          | 0/264 [00:00<?, ?it/s]"
      ]
     },
     "metadata": {},
     "output_type": "display_data"
    }
   ],
   "source": [
    "import asyncio\n",
    "import httpx\n",
    "import pandas as pd\n",
    "from tqdm.notebook import tqdm\n",
    "import random\n",
    "\n",
    "headers1 = {\n",
    "    'User-Agent': 'Mozilla/5.0 (Windows NT 10.0; Win64; x64) AppleWebKit/537.36 (KHTML, like Gecko) Chrome/119.0.0.0 Safari/537.36',\n",
    "    'Referer': 'https://www.ehsy.com/',\n",
    "    'Accept-Language': 'zh-CN,zh;q=0.9'\n",
    "}\n",
    "headers2 = {\n",
    "    'User-Agent': 'Mozilla/5.0 (Windows NT 10.0; Win64; x64) AppleWebKit/537.36 (KHTML, like Gecko) Chrome/120.0.0.0 Safari/537.36',\n",
    "     'Referer': 'https://www.ehsy.com/',\n",
    "    'Accept-Language': 'zh-CN,zh;q=0.9'\n",
    "}\n",
    "headers3 = {\n",
    "    'User-Agent': 'Mozilla/5.0 (Windows NT 10.0; Win64; x64) AppleWebKit/537.36 (KHTML, like Gecko) Chrome/119.0.0.0 Safari/537.36 Edg/119.0.2151.72',\n",
    "    'Referer': 'https://www.ehsy.com/',\n",
    "    'Accept-Language': 'zh-CN,zh;q=0.9'\n",
    "}\n",
    "headers = [headers1, headers2, headers3]\n",
    "async def fetch_data(client, semaphore, item, pbar):\n",
    "    async with semaphore:\n",
    "        try:\n",
    "            response = await client.get(item[\"链接\"], headers=random.choice(headers), timeout=5)\n",
    "            time.sleep(random.choice([0, 1, 2]))\n",
    "            sel = Selector(text=response.text)\n",
    "            tr_list = sel.css(\".standardTable tr.keyValue\")\n",
    "            for td in tr_list:\n",
    "                key, value = td.css(\"td::text\").extract()\n",
    "                item[key.strip()] = value.strip()\n",
    "            pbar.update(1)\n",
    "            return item\n",
    "        except Exception as e:\n",
    "            print(f\"请求失败: {item['链接']}，错误信息: {str(e)}\")\n",
    "            return None\n",
    "\n",
    "async def main():\n",
    "    df = pd.read_excel(r\"../data/西域商品螺丝钉链接数据.xlsx\", index_col=0)\n",
    "    data_list = []\n",
    "    semaphore = asyncio.Semaphore(10)\n",
    "    with tqdm(total=len(df), desc=\"抓取进度\") as pbar:\n",
    "        async with httpx.AsyncClient() as client:\n",
    "            tasks = []\n",
    "            for i in df.itertuples(index=True):\n",
    "                item = {\n",
    "                    \"商品信息\": i.商品信息,\n",
    "                    \"西域订货号\": i.西域订货号,\n",
    "                    \"链接\": i.链接\n",
    "                }\n",
    "                task = fetch_data(client, semaphore, item, pbar)\n",
    "                tasks.append(task)\n",
    "            results = await asyncio.gather(*tasks)\n",
    "    data_list = [result for result in results if result]\n",
    "    df = pd.DataFrame(data_list)\n",
    "    df.to_excel(r\"../data/西域商品螺丝钉详细数据.xlsx\")\n",
    "    return df\n",
    "\n",
    "if __name__ == \"__main__\":\n",
    "    # 普通脚本环境\n",
    "#     asyncio.run(main())\n",
    "    result = await main()\n",
    "\n",
    "# 如果在 Jupyter 等交互式环境中运行，请改用：\n",
    "# await main()"
   ]
  },
  {
   "cell_type": "code",
   "execution_count": null,
   "id": "279f8ac7",
   "metadata": {},
   "outputs": [],
   "source": []
  }
 ],
 "metadata": {
  "kernelspec": {
   "display_name": "Python 3 (ipykernel)",
   "language": "python",
   "name": "python3"
  },
  "language_info": {
   "codemirror_mode": {
    "name": "ipython",
    "version": 3
   },
   "file_extension": ".py",
   "mimetype": "text/x-python",
   "name": "python",
   "nbconvert_exporter": "python",
   "pygments_lexer": "ipython3",
   "version": "3.11.3"
  },
  "toc": {
   "base_numbering": 1,
   "nav_menu": {},
   "number_sections": true,
   "sideBar": true,
   "skip_h1_title": false,
   "title_cell": "Table of Contents",
   "title_sidebar": "Contents",
   "toc_cell": false,
   "toc_position": {},
   "toc_section_display": true,
   "toc_window_display": false
  }
 },
 "nbformat": 4,
 "nbformat_minor": 5
}
